{
 "cells": [
  {
   "cell_type": "markdown",
   "id": "50cbbc7a",
   "metadata": {},
   "source": [
    "# Home task: SVM\n",
    "\n",
    "## Sklearn SVM for Iris dataset\n"
   ]
  },
  {
   "cell_type": "code",
   "execution_count": 3,
   "id": "0be401ad",
   "metadata": {},
   "outputs": [],
   "source": [
    "from sklearn.datasets import load_iris\n",
    "from sklearn.model_selection import train_test_split\n",
    "from sklearn.preprocessing import StandardScaler\n",
    "from sklearn.svm import LinearSVC \n",
    "from sklearn.svm import SVC\n",
    "from matplotlib import pyplot as plt\n",
    "import numpy as np\n",
    "\n",
    "iris = load_iris()\n",
    "X,y=iris.data,iris.target\n",
    "X_train, X_test, y_train, y_test=train_test_split(X,y,test_size=0.2)"
   ]
  },
  {
   "cell_type": "code",
   "execution_count": 7,
   "id": "772e16f9",
   "metadata": {},
   "outputs": [
    {
     "name": "stdout",
     "output_type": "stream",
     "text": [
      "Linear kernel\t= 96.667%\n",
      "RBF kernel\t= 96.667%\n",
      "Poly kernel\t= 96.667%\n"
     ]
    }
   ],
   "source": [
    "# YOUR_CODE.  Try linear, rbf and poly kernels \n",
    "# START_CODE \n",
    "\n",
    "# Linear\n",
    "clf_l = LinearSVC(C=1, max_iter= 10000).fit(X_train,y_train)\n",
    "print(\"Linear kernel\\t= {:.3%}\".format(clf_l.score(X_test,y_test)))\n",
    "\n",
    "# RBF\n",
    "clf_rbf = SVC(C=10, kernel='rbf', gamma=0.001).fit(X_train,y_train) # rbf is default \n",
    "print(\"RBF kernel\\t= {:.3%}\".format(clf_rbf.score (X_test,y_test)))\n",
    "\n",
    "# Poly\n",
    "clf_svm  = SVC(C=5000, kernel='poly', degree=3).fit (X_train, y_train)\n",
    "print(\"Poly kernel\\t= {:.3%}\".format(clf_rbf.score (X_test,y_test)))\n",
    "# END_CODE "
   ]
  },
  {
   "cell_type": "code",
   "execution_count": null,
   "id": "ab7f547a",
   "metadata": {},
   "outputs": [],
   "source": []
  }
 ],
 "metadata": {
  "kernelspec": {
   "display_name": "Python 3 (ipykernel)",
   "language": "python",
   "name": "python3"
  },
  "language_info": {
   "codemirror_mode": {
    "name": "ipython",
    "version": 3
   },
   "file_extension": ".py",
   "mimetype": "text/x-python",
   "name": "python",
   "nbconvert_exporter": "python",
   "pygments_lexer": "ipython3",
   "version": "3.9.13"
  }
 },
 "nbformat": 4,
 "nbformat_minor": 5
}
