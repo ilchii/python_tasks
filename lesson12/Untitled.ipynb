{
 "cells": [
  {
   "cell_type": "code",
   "execution_count": 1,
   "id": "e299890a",
   "metadata": {},
   "outputs": [],
   "source": [
    "import numpy as np\n",
    "import pandas as pd\n",
    "\n",
    "from sklearn.preprocessing import LabelEncoder\n",
    "from sklearn.preprocessing import MinMaxScaler\n",
    "from sklearn.ensemble import RandomForestClassifier"
   ]
  },
  {
   "cell_type": "code",
   "execution_count": 2,
   "id": "0a74b1c2",
   "metadata": {},
   "outputs": [],
   "source": [
    "train_data = pd.read_csv(\"train.csv\")\n",
    "test_data = pd.read_csv(\"test.csv\")"
   ]
  },
  {
   "cell_type": "code",
   "execution_count": 3,
   "id": "c3482d8c",
   "metadata": {},
   "outputs": [],
   "source": [
    "def get_X_train_test(train_data, test_data):\n",
    "    cols_to_keep = [\n",
    "        'Pclass',\n",
    "        'Sex',\n",
    "        'SibSp',\n",
    "        'Parch',]\n",
    "    X_train = train_data[cols_to_keep]\n",
    "    X_test = test_data[cols_to_keep]\n",
    "    return X_train, X_test, cols_to_keep"
   ]
  },
  {
   "cell_type": "code",
   "execution_count": 4,
   "id": "0dbf5d90",
   "metadata": {},
   "outputs": [],
   "source": [
    "columns_to_encode = ['Sex']"
   ]
  },
  {
   "cell_type": "code",
   "execution_count": 5,
   "id": "ec19805b",
   "metadata": {},
   "outputs": [],
   "source": [
    "def label_encoder(X_train, X_test):\n",
    "    X_train = X_train.copy()\n",
    "    X_test = X_test.copy()\n",
    "    \n",
    "    for col in columns_to_encode:\n",
    "        le = LabelEncoder().fit(X_train[col].astype(str))\n",
    "        X_train[col] = le.transform(X_train[col].astype(str))\n",
    "        X_test[col] = le.transform(X_test[col].astype(str))\n",
    "    return X_train, X_test"
   ]
  },
  {
   "cell_type": "code",
   "execution_count": 6,
   "id": "c623ef14",
   "metadata": {},
   "outputs": [],
   "source": [
    "def fill_na(df):\n",
    "    for col in list(df):\n",
    "        if df[col].isna().any():\n",
    "            df[col] = df[col].fillna(0)"
   ]
  },
  {
   "cell_type": "code",
   "execution_count": 7,
   "id": "55651b9b",
   "metadata": {},
   "outputs": [],
   "source": [
    "def normalize(X_train, X_test):\n",
    "    scaler = MinMaxScaler()\n",
    "    X_train_scaled = scaler.fit_transform(X_train)\n",
    "    X_test_scaled = scaler.transform(X_test)\n",
    "    return X_train_scaled, X_test_scaled"
   ]
  },
  {
   "cell_type": "code",
   "execution_count": 8,
   "id": "b97d76b7",
   "metadata": {},
   "outputs": [],
   "source": [
    "def apply_preprocessing(train_data, test_data):\n",
    "    y_train = train_data['Survived']\n",
    "    if 'Survived' in list(test_data):\n",
    "        y_test = test_data['Survived']\n",
    "    else:\n",
    "        y_test_data = pd.read_csv(\"gender_submission.csv\")\n",
    "        y_test = y_test_data['Survived']\n",
    "        \n",
    "    X_train, X_test, features = get_X_train_test(train_data, test_data)\n",
    "    X_train, X_test = label_encoder(X_train, X_test)\n",
    "    \n",
    "    fill_na(X_train)\n",
    "    fill_na(X_test)\n",
    "    \n",
    "    X_train_scaled, X_test_scaled = normalize(X_train, X_test)\n",
    "    \n",
    "    return X_train_scaled, X_test_scaled, y_train, y_test, features"
   ]
  },
  {
   "cell_type": "code",
   "execution_count": 9,
   "id": "725516e0",
   "metadata": {},
   "outputs": [],
   "source": [
    "X_train_scaled, X_test_scaled, y_train, y_test, features = apply_preprocessing(train_data, test_data)"
   ]
  },
  {
   "cell_type": "code",
   "execution_count": 10,
   "id": "0eea5587",
   "metadata": {},
   "outputs": [],
   "source": [
    "clf = RandomForestClassifier(n_estimators = 100)\n",
    "clf.fit(X_train_scaled, y_train)\n",
    "y_predict = clf.predict(X_test_scaled)"
   ]
  },
  {
   "cell_type": "code",
   "execution_count": 11,
   "id": "0539d83e",
   "metadata": {},
   "outputs": [],
   "source": [
    "output = pd.DataFrame({'PassengerId': test_data.PassengerId, 'Survived': y_predict})\n",
    "output.to_csv('submission.csv', index = False)"
   ]
  },
  {
   "attachments": {
    "Screenshot_of_submission.png": {
     "image/png": "[encoded data removed]"
    }
   },
   "cell_type": "markdown",
   "id": "0c615971",
   "metadata": {},
   "source": [
    "![Screenshot_of_submission.png](attachment:Screenshot_of_submission.png)"
   ]
  }
 ],
 "metadata": {
  "kernelspec": {
   "display_name": "Python 3 (ipykernel)",
   "language": "python",
   "name": "python3"
  },
  "language_info": {
   "codemirror_mode": {
    "name": "ipython",
    "version": 3
   },
   "file_extension": ".py",
   "mimetype": "text/x-python",
   "name": "python",
   "nbconvert_exporter": "python",
   "pygments_lexer": "ipython3",
   "version": "3.9.13"
  }
 },
 "nbformat": 4,
 "nbformat_minor": 5
}
